{
  "nbformat": 4,
  "nbformat_minor": 0,
  "metadata": {
    "colab": {
      "provenance": [],
      "authorship_tag": "ABX9TyP3xg3rrVi1UoTk2NY4pq4n",
      "include_colab_link": true
    },
    "kernelspec": {
      "name": "python3",
      "display_name": "Python 3"
    },
    "language_info": {
      "name": "python"
    }
  },
  "cells": [
    {
      "cell_type": "markdown",
      "metadata": {
        "id": "view-in-github",
        "colab_type": "text"
      },
      "source": [
        "<a href=\"https://colab.research.google.com/github/DaffaStyn11/PCVK_2023/blob/main/pcvk_p9.ipynb\" target=\"_parent\"><img src=\"https://colab.research.google.com/assets/colab-badge.svg\" alt=\"Open In Colab\"/></a>"
      ]
    },
    {
      "cell_type": "code",
      "execution_count": null,
      "metadata": {
        "id": "VlR0tCh-5aSz"
      },
      "outputs": [],
      "source": [
        "from google.colab import drive \n",
        "drive.mount('/content/drive')"
      ]
    },
    {
      "cell_type": "code",
      "source": [
        "import cv2\n",
        "import numpy as np\n",
        "from matplotlib import pyplot as plt"
      ],
      "metadata": {
        "id": "vnxuYl6b5et0"
      },
      "execution_count": null,
      "outputs": []
    },
    {
      "cell_type": "code",
      "source": [
        "# Membaca gambar input\n",
        "img = cv2.imread('/content/drive/MyDrive/Images/morphology.png',0)\n",
        "\n",
        "# Membuat Structuring Element (SED) berbentuk cross 3 x 3\n",
        "kernel = np.array([[0, 1, 0],\n",
        "                [1, 1, 1],\n",
        "                [0, 1, 0]], dtype=np.uint8)\n",
        "\n",
        "# Membuat gambar kosong untuk menampung hasil dilasi\n",
        "dilated_img = np.zeros_like(img)\n",
        "\n",
        "# Mendapatkan ukuran gambar input\n",
        "height, width = img.shape\n",
        "\n",
        "# Looping untuk melakukan operasi dilasi\n",
        "for i in range(1, height-1):\n",
        "    for j in range(1, width-1):\n",
        "        # Melakukan dilasi pada setiap piksel pada gambar input\n",
        "        dilated_pixel = np.max(img[i-1:i+2, j-1:j+2] + kernel)\n",
        "        dilated_img[i, j] = dilated_pixel\n",
        "print(kernel)\n",
        "# Menampilkan gambar hasil dilasi\n",
        "plt.subplot(121), plt.imshow(img, cmap='gray'), plt.title('Citra Awal')\n",
        "plt.subplot(122), plt.imshow(dilated_img, cmap='gray'), plt.title('Citra Hasil Dilasi')\n",
        "plt.show()"
      ],
      "metadata": {
        "id": "kao66z9l5j19"
      },
      "execution_count": null,
      "outputs": []
    },
    {
      "cell_type": "code",
      "source": [
        "img = cv2.imread('/content/drive/MyDrive/Images/morphology.png')\n",
        "kernel = np.array([[0, 1, 0],\n",
        "                   [1, 1, 1],\n",
        "                   [0, 1, 0]], dtype=np.uint8)\n",
        "dilation = cv2.morphologyEx(img, cv2.MORPH_CROSS, kernel) #morphologyEX berfungsi untuk menghilangkan noise, \n",
        "\n",
        "print(kernel)\n",
        "plt.subplot(121), plt.imshow(img), plt.title('Citra Awal')\n",
        "plt.subplot(122), plt.imshow(dilation), plt.title('Citra Hasil Dilasi')"
      ],
      "metadata": {
        "id": "B4OHlfD_5otw"
      },
      "execution_count": null,
      "outputs": []
    },
    {
      "cell_type": "code",
      "source": [
        "img2 = cv2.imread('/content/drive/MyDrive/Images/j.png',0)\n",
        "\n",
        "se = np.ones((5, 5), dtype=np.uint8)\n",
        "\n",
        "# Membuat gambar kosong untuk menampung hasil erosi\n",
        "eroded_img = np.zeros_like(img2)\n",
        "\n",
        "# Mendapatkan ukuran gambar input\n",
        "height, width = img2.shape\n",
        "\n",
        "# Looping untuk melakukan operasi erosi\n",
        "for i in range(2, height-2):\n",
        "    for j in range(2, width-2):\n",
        "        # Melakukan erosi pada setiap piksel pada gambar input\n",
        "        eroded_pixel = np.min(img2[i-2:i+3, j-2:j+3] * se)\n",
        "        eroded_img[i, j] = eroded_pixel\n",
        "\n",
        "print(se)\n",
        "\n",
        "plt.subplot(121), plt.imshow(img2, cmap='gray'), plt.title('Citra Awal')\n",
        "plt.subplot(122), plt.imshow(eroded_img, cmap='gray'), plt.title('Citra Hasil Erosi')"
      ],
      "metadata": {
        "id": "GDgqpwb555Dt"
      },
      "execution_count": null,
      "outputs": []
    },
    {
      "cell_type": "code",
      "source": [
        "img = cv2.imread('/content/drive/MyDrive/Images/j.png')\n",
        "kernel = np.ones((5,5), np.uint8)\n",
        "erosion = cv2.morphologyEx(img, cv2.MORPH_ERODE, kernel)\n",
        "\n",
        "plt.subplot(121), plt.imshow(img), plt.title('Citra Awal')\n",
        "plt.subplot(122), plt.imshow(erosion), plt.title('Citra Hasil Erosi')"
      ],
      "metadata": {
        "id": "0HlsRwiC59Y6"
      },
      "execution_count": null,
      "outputs": []
    },
    {
      "cell_type": "code",
      "source": [
        "# Load gambar\n",
        "img = cv2.imread('/content/drive/MyDrive/Images/fingerprint.png', 0)\n",
        "\n",
        "# Erosi\n",
        "kernel = np.ones((3,3), np.uint8)\n",
        "erosion = np.zeros_like(img)\n",
        "for i in range(1, img.shape[0]-1):\n",
        "    for j in range(1, img.shape[1]-1):\n",
        "        temp = img[i-1:i+2, j-1:j+2]\n",
        "        erosion[i,j] = np.min(temp)\n",
        "\n",
        "# Opening\n",
        "kernel = np.ones((3,3), np.uint8)\n",
        "opening = cv2.morphologyEx(img, cv2.MORPH_OPEN, kernel)\n",
        "\n",
        "# Menampilkan gambar\n",
        "plt.figure(figsize=(12,8))\n",
        "\n",
        "plt.subplot(231), plt.imshow(img, cmap='gray')\n",
        "plt.title('Citra Awal'), plt.xticks([]), plt.yticks([])\n",
        "\n",
        "plt.subplot(232), plt.imshow(erosion, cmap='gray')\n",
        "plt.title('Citra Hasil Erosi'), plt.xticks([]), plt.yticks([])\n",
        "\n",
        "plt.subplot(233), plt.imshow(opening, cmap='gray')\n",
        "plt.title('Citra Hasil Opening'), plt.xticks([]), plt.yticks([])\n",
        "\n",
        "# Menggunakan Library Morphology dari OpenCV\n",
        "img = cv2.imread('/content/drive/MyDrive/Images/fingerprint.png', 0)\n",
        "\n",
        "# Erosi\n",
        "kernel = np.ones((3,3), np.uint8)\n",
        "erosion = cv2.erode(img, kernel, iterations=1)\n",
        "\n",
        "# Opening\n",
        "kernel = np.ones((3,3), np.uint8)\n",
        "opening = cv2.morphologyEx(img, cv2.MORPH_OPEN, kernel)\n",
        "\n",
        "# Menampilkan gambar\n",
        "plt.subplot(234), plt.imshow(img, cmap='gray')\n",
        "plt.title('Citra Awal'), plt.xticks([]), plt.yticks([])\n",
        "\n",
        "plt.subplot(235), plt.imshow(erosion, cmap='gray')\n",
        "plt.title('Citra Hasil Erosi'), plt.xticks([]), plt.yticks([])\n",
        "\n",
        "plt.subplot(236), plt.imshow(opening, cmap='gray')\n",
        "plt.title('Citra Hasil Opening'), plt.xticks([]), plt.yticks([])\n",
        "\n",
        "plt.show()"
      ],
      "metadata": {
        "id": "DNUQ1g2i6Cei"
      },
      "execution_count": null,
      "outputs": []
    },
    {
      "cell_type": "code",
      "source": [
        "img = cv2.imread('/content/drive/MyDrive/Images/fingerprint.png', 0)\n",
        "\n",
        "# Operasi closing dengan SE square 3 x 3 menggunakan library morphology dari OpenCV\n",
        "kernel = np.ones((3,3),np.uint8)\n",
        "closing = cv2.morphologyEx(img, cv2.MORPH_CLOSE, kernel)\n",
        "\n",
        "# Operasi dilasi dengan SE square 3 x 3 menggunakan library morphology dari OpenCV\n",
        "dilation = cv2.dilate(img, kernel, iterations=1)\n",
        "\n",
        "# Tampilkan gambar\n",
        "fig, axs = plt.subplots(1, 3, figsize=(10, 5))\n",
        "axs[0].imshow(img, cmap='gray')\n",
        "axs[0].set_title('Citra Awal')\n",
        "axs[1].imshow(dilation, cmap='gray')\n",
        "axs[1].set_title('Citra Dilasi')\n",
        "axs[2].imshow(closing, cmap='gray')\n",
        "axs[2].set_title('Citra Closing')\n",
        "plt.show()"
      ],
      "metadata": {
        "id": "5_bJEofP6HKW"
      },
      "execution_count": null,
      "outputs": []
    },
    {
      "cell_type": "code",
      "source": [
        "img = cv2.imread('/content/drive/MyDrive/Images/fingerprint.png', 0)\n",
        "\n",
        "# Tampilkan citra awal\n",
        "plt.subplot(131)\n",
        "plt.imshow(img, cmap='gray')\n",
        "plt.title('Citra Awal')\n",
        "\n",
        "# Proses dilasi\n",
        "k = np.ones((3,3), np.uint8)\n",
        "dilation = np.zeros_like(img)\n",
        "m, n = img.shape\n",
        "\n",
        "for i in range(1, m-1):\n",
        "    for j in range(1, n-1):\n",
        "        temp = img[i-1:i+2, j-1:j+2]\n",
        "        dilation[i,j] = np.max(temp)\n",
        "\n",
        "# Tampilkan citra setelah dilasi\n",
        "plt.subplot(132)\n",
        "plt.imshow(dilation, cmap='gray')\n",
        "plt.title('Citra Dilasi')\n",
        "\n",
        "# Proses closing\n",
        "closing = np.zeros_like(img)\n",
        "\n",
        "for i in range(1, m-1):\n",
        "    for j in range(1, n-1):\n",
        "        temp = dilation[i-1:i+2, j-1:j+2]\n",
        "        closing[i,j] = np.min(temp)\n",
        "\n",
        "# Tampilkan citra hasil closing\n",
        "plt.subplot(133)\n",
        "plt.imshow(closing, cmap='gray')\n",
        "plt.title('Citra Closing')\n",
        "\n",
        "plt.show()"
      ],
      "metadata": {
        "id": "2fx5KlBP6Ns1"
      },
      "execution_count": null,
      "outputs": []
    },
    {
      "cell_type": "code",
      "source": [
        "# melakukan load gambar pada google drive bernama j.png\n",
        "img9 = cv2.imread('/content/drive/MyDrive/Images/j.png')\n",
        "\n",
        "# Mendefinisikan structured element 3x3 dan 5x5\n",
        "kernel3 = cv2.getStructuringElement(cv2.MORPH_CROSS, (3,3))\n",
        "kernel5 = cv2.getStructuringElement(cv2.MORPH_CROSS, (5,5))\n",
        "\n",
        "# melakukan dilasi image dengan 3x3\n",
        "dilation3 = cv2.dilate(img9, kernel3, iterations=1)\n",
        "# melakukan dilasi image dengan 5x5\n",
        "dilation5 = cv2.dilate(img9, kernel5, iterations=1)\n",
        "\n",
        "# menampilakan gambar asli dan gambar setelah proses dilasi\n",
        "fig, axs = plt.subplots(2, 2, figsize=(8, 8))\n",
        "axs[0, 0].imshow(img9, cmap='gray')\n",
        "axs[0, 0].set_title('SED = Cross 3')\n",
        "axs[0, 1].imshow(dilation3, cmap='gray')\n",
        "axs[0, 1].set_title('Cross 3x3')\n",
        "axs[1, 0].imshow(img9, cmap='gray')\n",
        "axs[1, 0].set_title('SED = Cross 5')\n",
        "axs[1, 1].imshow(dilation5, cmap='gray')\n",
        "axs[1, 1].set_title('Cross 5x5')\n",
        "plt.show()"
      ],
      "metadata": {
        "id": "lD6P2vHX6Ohu"
      },
      "execution_count": null,
      "outputs": []
    },
    {
      "cell_type": "code",
      "source": [
        "# melakukan load gambar pada google drive bernama j.png\n",
        "img9 = cv2.imread('/content/drive/MyDrive/Images/j.png')\n",
        "\n",
        "# Mendefinisikan structured element 3x3 dan 5x5\n",
        "kernel3 = cv2.getStructuringElement(cv2.MORPH_ELLIPSE, (3,3))\n",
        "kernel5 = cv2.getStructuringElement(cv2.MORPH_ELLIPSE, (5,5))\n",
        "\n",
        "# melakukan dilasi image dengan 3x3\n",
        "dilation3 = cv2.dilate(img9, kernel3, iterations=1)\n",
        "# melakukan dilasi image dengan 5x5\n",
        "dilation5 = cv2.dilate(img9, kernel5, iterations=1)\n",
        "\n",
        "# menampilakan gambar asli dan gambar setelah proses dilasi\n",
        "fig, axs = plt.subplots(2, 2, figsize=(8, 8))\n",
        "axs[0, 0].imshow(img9, cmap='gray')\n",
        "axs[0, 0].set_title('SED = Circle 3')\n",
        "axs[0, 1].imshow(dilation3, cmap='gray')\n",
        "axs[0, 1].set_title('Cricular 3x3')\n",
        "axs[1, 0].imshow(img9, cmap='gray')\n",
        "axs[1, 0].set_title('SED = Circle 5')\n",
        "axs[1, 1].imshow(dilation5, cmap='gray')\n",
        "axs[1, 1].set_title('Cricular 5x5')\n",
        "plt.show()"
      ],
      "metadata": {
        "id": "y_qDn44I6gUh"
      },
      "execution_count": null,
      "outputs": []
    },
    {
      "cell_type": "code",
      "source": [
        "img9 = cv2.imread('/content/drive/MyDrive/Images/j.png')\n",
        "\n",
        "# Mendefinisikan structured element 3x5 dan 5x7\n",
        "kernel3 = cv2.getStructuringElement(cv2.MORPH_RECT,(3,5))\n",
        "kernel5 = cv2.getStructuringElement(cv2.MORPH_RECT,(5,7))\n",
        "\n",
        "# melakukan dilasi image dengan 3x3\n",
        "dilation3 = cv2.erode(img9, kernel3, iterations=1)\n",
        "# melakukan dilasi image dengan 5x5\n",
        "dilation5 = cv2.erode(img9, kernel5, iterations=1)\n",
        "\n",
        "# menampilakan gambar asli dan gambar setelah proses dilasi\n",
        "fig, axs = plt.subplots(2, 2, figsize=(8, 8))\n",
        "axs[0, 0].imshow(img9, cmap='gray')\n",
        "axs[0, 0].set_title('Citra Awal')\n",
        "axs[0, 1].imshow(dilation3, cmap='gray')\n",
        "axs[0, 1].set_title('Citra Hasil Dilasi')\n",
        "axs[1, 0].imshow(img9, cmap='gray')\n",
        "axs[1, 0].set_title('Citra Awal')\n",
        "axs[1, 1].imshow(dilation5, cmap='gray')\n",
        "axs[1, 1].set_title('Citra Hasil Dilasi')\n",
        "plt.show()"
      ],
      "metadata": {
        "id": "2FCkhrT96kh-"
      },
      "execution_count": null,
      "outputs": []
    }
  ]
}